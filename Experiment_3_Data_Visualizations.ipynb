{
  "nbformat": 4,
  "nbformat_minor": 0,
  "metadata": {
    "colab": {
      "name": "Experiment 3: Data Visualizations",
      "provenance": [],
      "authorship_tag": "ABX9TyPKxBoPBTpm0YSDt1fn7yrx",
      "include_colab_link": true
    },
    "kernelspec": {
      "name": "python3",
      "display_name": "Python 3"
    }
  },
  "cells": [
    {
      "cell_type": "markdown",
      "metadata": {
        "id": "view-in-github",
        "colab_type": "text"
      },
      "source": [
        "<a href=\"https://colab.research.google.com/github/19pa1a0227/AI-Lab-/blob/master/Experiment_3_Data_Visualizations.ipynb\" target=\"_parent\"><img src=\"https://colab.research.google.com/assets/colab-badge.svg\" alt=\"Open In Colab\"/></a>"
      ]
    },
    {
      "cell_type": "markdown",
      "metadata": {
        "id": "hvyKYcRnepTd",
        "colab_type": "text"
      },
      "source": [
        "# Experiment 3 : Data Visualizations"
      ]
    },
    {
      "cell_type": "markdown",
      "metadata": {
        "id": "6p1c0-oee4OJ",
        "colab_type": "text"
      },
      "source": [
        "## 1) Line Graphs"
      ]
    },
    {
      "cell_type": "markdown",
      "metadata": {
        "id": "8ajt-ppNfE0N",
        "colab_type": "text"
      },
      "source": [
        "### i) Draw a line graph between SSC and intermediate/diploma percentage."
      ]
    },
    {
      "cell_type": "code",
      "metadata": {
        "id": "AQ0-jViueB9A",
        "colab_type": "code",
        "colab": {}
      },
      "source": [
        "#importing some important data sets\n",
        "import numpy as np\n",
        "import pandas as pd\n",
        "import matplotlib.pyplot as plt\n",
        "import seaborn as sns"
      ],
      "execution_count": null,
      "outputs": []
    },
    {
      "cell_type": "code",
      "metadata": {
        "id": "zen_5vcIoLYa",
        "colab_type": "code",
        "colab": {}
      },
      "source": [
        "%matplotlib inline"
      ],
      "execution_count": 2,
      "outputs": []
    },
    {
      "cell_type": "code",
      "metadata": {
        "id": "qVZaaH04jiyZ",
        "colab_type": "code",
        "colab": {
          "base_uri": "https://localhost:8080/",
          "height": 240
        },
        "outputId": "b8f37f00-69ed-489a-fb0b-dfb785a17657"
      },
      "source": [
        "stu_data=pd.read_csv(\"students_placement_data.csv\")\n",
        "stu_data.head()"
      ],
      "execution_count": 3,
      "outputs": [
        {
          "output_type": "execute_result",
          "data": {
            "text/html": [
              "<div>\n",
              "<style scoped>\n",
              "    .dataframe tbody tr th:only-of-type {\n",
              "        vertical-align: middle;\n",
              "    }\n",
              "\n",
              "    .dataframe tbody tr th {\n",
              "        vertical-align: top;\n",
              "    }\n",
              "\n",
              "    .dataframe thead th {\n",
              "        text-align: right;\n",
              "    }\n",
              "</style>\n",
              "<table border=\"1\" class=\"dataframe\">\n",
              "  <thead>\n",
              "    <tr style=\"text-align: right;\">\n",
              "      <th></th>\n",
              "      <th>Roll No</th>\n",
              "      <th>Gender</th>\n",
              "      <th>Section</th>\n",
              "      <th>SSC Percentage</th>\n",
              "      <th>inter_Diploma_percentage</th>\n",
              "      <th>B.Tech_percentage</th>\n",
              "      <th>Backlogs</th>\n",
              "      <th>registered_for_ Placement_Training</th>\n",
              "      <th>placement status</th>\n",
              "    </tr>\n",
              "  </thead>\n",
              "  <tbody>\n",
              "    <tr>\n",
              "      <th>0</th>\n",
              "      <td>1</td>\n",
              "      <td>M</td>\n",
              "      <td>A</td>\n",
              "      <td>87.3</td>\n",
              "      <td>65.3</td>\n",
              "      <td>40.00</td>\n",
              "      <td>18</td>\n",
              "      <td>NO</td>\n",
              "      <td>Not placed</td>\n",
              "    </tr>\n",
              "    <tr>\n",
              "      <th>1</th>\n",
              "      <td>2</td>\n",
              "      <td>F</td>\n",
              "      <td>A</td>\n",
              "      <td>89.0</td>\n",
              "      <td>92.4</td>\n",
              "      <td>71.45</td>\n",
              "      <td>0</td>\n",
              "      <td>yes</td>\n",
              "      <td>Placed</td>\n",
              "    </tr>\n",
              "    <tr>\n",
              "      <th>2</th>\n",
              "      <td>3</td>\n",
              "      <td>F</td>\n",
              "      <td>A</td>\n",
              "      <td>67.0</td>\n",
              "      <td>68.0</td>\n",
              "      <td>45.26</td>\n",
              "      <td>13</td>\n",
              "      <td>yes</td>\n",
              "      <td>Not placed</td>\n",
              "    </tr>\n",
              "    <tr>\n",
              "      <th>3</th>\n",
              "      <td>4</td>\n",
              "      <td>M</td>\n",
              "      <td>A</td>\n",
              "      <td>71.0</td>\n",
              "      <td>70.4</td>\n",
              "      <td>36.47</td>\n",
              "      <td>17</td>\n",
              "      <td>yes</td>\n",
              "      <td>Not placed</td>\n",
              "    </tr>\n",
              "    <tr>\n",
              "      <th>4</th>\n",
              "      <td>5</td>\n",
              "      <td>M</td>\n",
              "      <td>A</td>\n",
              "      <td>NaN</td>\n",
              "      <td>65.5</td>\n",
              "      <td>42.52</td>\n",
              "      <td>17</td>\n",
              "      <td>yes</td>\n",
              "      <td>Not placed</td>\n",
              "    </tr>\n",
              "  </tbody>\n",
              "</table>\n",
              "</div>"
            ],
            "text/plain": [
              "   Roll No Gender  ... registered_for_ Placement_Training  placement status\n",
              "0        1      M  ...                                 NO        Not placed\n",
              "1        2      F  ...                                yes            Placed\n",
              "2        3      F  ...                                yes        Not placed\n",
              "3        4      M  ...                                yes        Not placed\n",
              "4        5      M  ...                                yes        Not placed\n",
              "\n",
              "[5 rows x 9 columns]"
            ]
          },
          "metadata": {
            "tags": []
          },
          "execution_count": 3
        }
      ]
    },
    {
      "cell_type": "code",
      "metadata": {
        "id": "v5UFYvNFjwi2",
        "colab_type": "code",
        "colab": {
          "base_uri": "https://localhost:8080/",
          "height": 295
        },
        "outputId": "a60504c4-dd1b-42bb-fcca-3878d49ad7d5"
      },
      "source": [
        "stu_data.describe()"
      ],
      "execution_count": 4,
      "outputs": [
        {
          "output_type": "execute_result",
          "data": {
            "text/html": [
              "<div>\n",
              "<style scoped>\n",
              "    .dataframe tbody tr th:only-of-type {\n",
              "        vertical-align: middle;\n",
              "    }\n",
              "\n",
              "    .dataframe tbody tr th {\n",
              "        vertical-align: top;\n",
              "    }\n",
              "\n",
              "    .dataframe thead th {\n",
              "        text-align: right;\n",
              "    }\n",
              "</style>\n",
              "<table border=\"1\" class=\"dataframe\">\n",
              "  <thead>\n",
              "    <tr style=\"text-align: right;\">\n",
              "      <th></th>\n",
              "      <th>Roll No</th>\n",
              "      <th>SSC Percentage</th>\n",
              "      <th>inter_Diploma_percentage</th>\n",
              "      <th>B.Tech_percentage</th>\n",
              "      <th>Backlogs</th>\n",
              "    </tr>\n",
              "  </thead>\n",
              "  <tbody>\n",
              "    <tr>\n",
              "      <th>count</th>\n",
              "      <td>117.000000</td>\n",
              "      <td>116.000000</td>\n",
              "      <td>117.000000</td>\n",
              "      <td>117.000000</td>\n",
              "      <td>117.000000</td>\n",
              "    </tr>\n",
              "    <tr>\n",
              "      <th>mean</th>\n",
              "      <td>59.000000</td>\n",
              "      <td>80.474569</td>\n",
              "      <td>80.772906</td>\n",
              "      <td>62.943419</td>\n",
              "      <td>4.111111</td>\n",
              "    </tr>\n",
              "    <tr>\n",
              "      <th>std</th>\n",
              "      <td>33.919021</td>\n",
              "      <td>8.836079</td>\n",
              "      <td>11.267248</td>\n",
              "      <td>12.064306</td>\n",
              "      <td>6.335148</td>\n",
              "    </tr>\n",
              "    <tr>\n",
              "      <th>min</th>\n",
              "      <td>1.000000</td>\n",
              "      <td>47.800000</td>\n",
              "      <td>52.200000</td>\n",
              "      <td>31.200000</td>\n",
              "      <td>0.000000</td>\n",
              "    </tr>\n",
              "    <tr>\n",
              "      <th>25%</th>\n",
              "      <td>30.000000</td>\n",
              "      <td>76.622500</td>\n",
              "      <td>73.400000</td>\n",
              "      <td>54.180000</td>\n",
              "      <td>0.000000</td>\n",
              "    </tr>\n",
              "    <tr>\n",
              "      <th>50%</th>\n",
              "      <td>59.000000</td>\n",
              "      <td>82.745000</td>\n",
              "      <td>83.600000</td>\n",
              "      <td>64.360000</td>\n",
              "      <td>0.000000</td>\n",
              "    </tr>\n",
              "    <tr>\n",
              "      <th>75%</th>\n",
              "      <td>88.000000</td>\n",
              "      <td>87.025000</td>\n",
              "      <td>90.000000</td>\n",
              "      <td>72.570000</td>\n",
              "      <td>7.000000</td>\n",
              "    </tr>\n",
              "    <tr>\n",
              "      <th>max</th>\n",
              "      <td>117.000000</td>\n",
              "      <td>93.660000</td>\n",
              "      <td>96.900000</td>\n",
              "      <td>88.100000</td>\n",
              "      <td>25.000000</td>\n",
              "    </tr>\n",
              "  </tbody>\n",
              "</table>\n",
              "</div>"
            ],
            "text/plain": [
              "          Roll No  SSC Percentage  ...  B.Tech_percentage    Backlogs\n",
              "count  117.000000      116.000000  ...         117.000000  117.000000\n",
              "mean    59.000000       80.474569  ...          62.943419    4.111111\n",
              "std     33.919021        8.836079  ...          12.064306    6.335148\n",
              "min      1.000000       47.800000  ...          31.200000    0.000000\n",
              "25%     30.000000       76.622500  ...          54.180000    0.000000\n",
              "50%     59.000000       82.745000  ...          64.360000    0.000000\n",
              "75%     88.000000       87.025000  ...          72.570000    7.000000\n",
              "max    117.000000       93.660000  ...          88.100000   25.000000\n",
              "\n",
              "[8 rows x 5 columns]"
            ]
          },
          "metadata": {
            "tags": []
          },
          "execution_count": 4
        }
      ]
    },
    {
      "cell_type": "code",
      "metadata": {
        "id": "myEQWHNdngWB",
        "colab_type": "code",
        "colab": {
          "base_uri": "https://localhost:8080/",
          "height": 475
        },
        "outputId": "2d0156ea-7ce1-4a0a-9bf7-d701d3f5dc87"
      },
      "source": [
        "stu_data.isna().any()"
      ],
      "execution_count": 5,
      "outputs": [
        {
          "output_type": "execute_result",
          "data": {
            "text/plain": [
              "Roll No                               False\n",
              "Gender                                False\n",
              "Section                               False\n",
              "SSC Percentage                         True\n",
              "inter_Diploma_percentage              False\n",
              "B.Tech_percentage                     False\n",
              "Backlogs                              False\n",
              "registered_for_ Placement_Training     True\n",
              "placement status                      False\n",
              "dtype: bool"
            ]
          },
          "metadata": {
            "tags": []
          },
          "execution_count": 5
        }
      ]
    },
    {
      "cell_type": "code",
      "metadata": {
        "id": "JfYxfH_inq3b",
        "colab_type": "code",
        "colab": {
          "base_uri": "https://localhost:8080/",
          "height": 34
        },
        "outputId": "b88c80a7-561e-44ca-9225-94f4e2ab3a08"
      },
      "source": [
        "stu_data.shape"
      ],
      "execution_count": 6,
      "outputs": [
        {
          "output_type": "execute_result",
          "data": {
            "text/plain": [
              "(117, 9)"
            ]
          },
          "metadata": {
            "tags": []
          },
          "execution_count": 6
        }
      ]
    },
    {
      "cell_type": "code",
      "metadata": {
        "id": "3Mez6kstnwHM",
        "colab_type": "code",
        "colab": {
          "base_uri": "https://localhost:8080/",
          "height": 296
        },
        "outputId": "ff04b8a8-02e7-4ebc-8814-d3ad5b0fbf41"
      },
      "source": [
        "x=stu_data[\"SSC Percentage\"]\n",
        "y=stu_data[\"inter_Diploma_percentage\"]\n",
        "plt.plot(x,y)\n",
        "plt.xlabel(\"SSC Percentage\")\n",
        "plt.ylabel(\"Inter Percentage\")"
      ],
      "execution_count": null,
      "outputs": [
        {
          "output_type": "execute_result",
          "data": {
            "text/plain": [
              "Text(0, 0.5, 'Inter Percentage')"
            ]
          },
          "metadata": {
            "tags": []
          },
          "execution_count": 12
        },
        {
          "output_type": "display_data",
          "data": {
            "image/png": "[encoded data removed]",
            "text/plain": [
              "<Figure size 432x288 with 1 Axes>"
            ]
          },
          "metadata": {
            "tags": [],
            "needs_background": "light"
          }
        }
      ]
    },
    {
      "cell_type": "markdown",
      "metadata": {
        "id": "xvgJy9--8PLQ",
        "colab_type": "text"
      },
      "source": [
        "###  ii) Does it make sense? Explain when to use line graphs?"
      ]
    },
    {
      "cell_type": "markdown",
      "metadata": {
        "id": "EZGPnPyLpcbK",
        "colab_type": "text"
      },
      "source": [
        "Ans) It is not making any sense. A line graph is commonly used to display change over a time as a series of data points connected by straight line segments on two axes. Thereofore it helps to determine relationship between two sets of values, with one data set which is always depend on other set."
      ]
    },
    {
      "cell_type": "markdown",
      "metadata": {
        "id": "QtA7a1TMpwz2",
        "colab_type": "text"
      },
      "source": [
        "## 2) Scatter Plots"
      ]
    },
    {
      "cell_type": "markdown",
      "metadata": {
        "id": "md7w216oqAyv",
        "colab_type": "text"
      },
      "source": [
        "### i) Draw a scatter plot between SSC and inter/diploma percentage"
      ]
    },
    {
      "cell_type": "code",
      "metadata": {
        "id": "GURnapTnp2aR",
        "colab_type": "code",
        "colab": {
          "base_uri": "https://localhost:8080/",
          "height": 308
        },
        "outputId": "fd915015-2217-467a-eb5b-ecab50709ace"
      },
      "source": [
        "x=stu_data[\"SSC Percentage\"]\n",
        "y=stu_data[\"inter_Diploma_percentage\"]\n",
        "plt.scatter(x,y,marker=\"*\")\n",
        "plt.xlabel(\"SSC Percentage\")\n",
        "plt.ylabel(\"Inter Percentage\")\n",
        "plt.suptitle(\"Inter Percentage Vs SSC Percentage\",color=\"blue\")\n",
        "sns.set(font_scale=0.8)"
      ],
      "execution_count": null,
      "outputs": [
        {
          "output_type": "display_data",
          "data": {
            "image/png": "[encoded data removed]",
            "text/plain": [
              "<Figure size 432x288 with 1 Axes>"
            ]
          },
          "metadata": {
            "tags": [],
            "needs_background": "light"
          }
        }
      ]
    },
    {
      "cell_type": "markdown",
      "metadata": {
        "id": "563CxN8A9nTB",
        "colab_type": "text"
      },
      "source": [
        "### ii) Do you find any correlation by just visual inspection? If yes, then what kind of correlation you can see? (+ve, -ve or No)\n"
      ]
    },
    {
      "cell_type": "markdown",
      "metadata": {
        "id": "C_51V0OJrgbn",
        "colab_type": "text"
      },
      "source": [
        "Ans) Yes, It is showing +ve relation. "
      ]
    },
    {
      "cell_type": "markdown",
      "metadata": {
        "id": "PHeVaWR0r19a",
        "colab_type": "text"
      },
      "source": [
        "##  3) Histograms\n"
      ]
    },
    {
      "cell_type": "markdown",
      "metadata": {
        "id": "wE9Ce1kMr-eg",
        "colab_type": "text"
      },
      "source": [
        "### i) Draw a histogram for B.Tech percentage"
      ]
    },
    {
      "cell_type": "code",
      "metadata": {
        "id": "tWJG1zaxsb63",
        "colab_type": "code",
        "colab": {
          "base_uri": "https://localhost:8080/",
          "height": 298
        },
        "outputId": "79b76513-7d4b-467c-d170-074ce196efeb"
      },
      "source": [
        "x=np.linspace(0,100,11)\n",
        "plt.hist(stu_data[\"B.Tech_percentage\"],x,width=9)\n",
        "plt.xlabel(\"B.Tech Score\")"
      ],
      "execution_count": null,
      "outputs": [
        {
          "output_type": "execute_result",
          "data": {
            "text/plain": [
              "Text(0.5, 0, 'B.Tech Score')"
            ]
          },
          "metadata": {
            "tags": []
          },
          "execution_count": 42
        },
        {
          "output_type": "display_data",
          "data": {
            "image/png": "[encoded data removed]",
            "text/plain": [
              "<Figure size 432x288 with 1 Axes>"
            ]
          },
          "metadata": {
            "tags": []
          }
        }
      ]
    },
    {
      "cell_type": "markdown",
      "metadata": {
        "id": "k97PpJnuuJBi",
        "colab_type": "text"
      },
      "source": [
        "### ii) How many people have scores between 60-80% in B.tech. Tell your approximate answer by visual inspection?"
      ]
    },
    {
      "cell_type": "markdown",
      "metadata": {
        "id": "WO3hUYaZ755-",
        "colab_type": "text"
      },
      "source": [
        "Ans) 65 members have approximately scores between 60-80%"
      ]
    },
    {
      "cell_type": "markdown",
      "metadata": {
        "id": "4qKwMYp3unvv",
        "colab_type": "text"
      },
      "source": [
        "## 4) Subplots"
      ]
    },
    {
      "cell_type": "markdown",
      "metadata": {
        "id": "lXSarBJlutmb",
        "colab_type": "text"
      },
      "source": [
        "### i) Draw a scatter plot between\n",
        "·         intermediate and SSC\n",
        "·         Intermediate and B.Tech\n",
        "in the same graph."
      ]
    },
    {
      "cell_type": "code",
      "metadata": {
        "id": "DZOVpVxZ_LcS",
        "colab_type": "code",
        "colab": {
          "base_uri": "https://localhost:8080/",
          "height": 296
        },
        "outputId": "db35a8bf-25ed-4c41-d6d6-852c04f01588"
      },
      "source": [
        "f,ax=plt.subplots()\n",
        "ax.scatter(stu_data[\"inter_Diploma_percentage\"],stu_data[\"SSC Percentage\"], label=\"Inter-SSC\")\n",
        "ax.scatter(stu_data[\"inter_Diploma_percentage\"],stu_data[\"B.Tech_percentage\"],label=\"Inter-B.Tech\")\n",
        "ax.set_xlabel(\"Intermediate Score\")\n",
        "ax.legend(loc=4)"
      ],
      "execution_count": null,
      "outputs": [
        {
          "output_type": "execute_result",
          "data": {
            "text/plain": [
              "<matplotlib.legend.Legend at 0x7fc97dfc9518>"
            ]
          },
          "metadata": {
            "tags": []
          },
          "execution_count": 13
        },
        {
          "output_type": "display_data",
          "data": {
            "image/png": "[encoded data removed]",
            "text/plain": [
              "<Figure size 432x288 with 1 Axes>"
            ]
          },
          "metadata": {
            "tags": [],
            "needs_background": "light"
          }
        }
      ]
    },
    {
      "cell_type": "markdown",
      "metadata": {
        "id": "6kA-p_8rsECC",
        "colab_type": "text"
      },
      "source": [
        "### ii) What's your observation?"
      ]
    },
    {
      "cell_type": "markdown",
      "metadata": {
        "id": "hE5AlVV3E0bL",
        "colab_type": "text"
      },
      "source": [
        "Ans) People having high percentage in Inter has high percentages in SSC and B.tech and vice-versa. Also there are  few outliers are there in this data"
      ]
    },
    {
      "cell_type": "markdown",
      "metadata": {
        "id": "bZj_D95oHJ9E",
        "colab_type": "text"
      },
      "source": [
        "## 5) Join plots"
      ]
    },
    {
      "cell_type": "markdown",
      "metadata": {
        "id": "Wo5MsPmOHWp0",
        "colab_type": "text"
      },
      "source": [
        "### i) Draw a jointplot between intermediate and Backlogs in B.tech"
      ]
    },
    {
      "cell_type": "code",
      "metadata": {
        "id": "mT4fAKcFHfk7",
        "colab_type": "code",
        "colab": {
          "base_uri": "https://localhost:8080/",
          "height": 458
        },
        "outputId": "467f5439-cdd4-403f-801f-bab1bfd30d7f"
      },
      "source": [
        "sns.jointplot(x=\"inter_Diploma_percentage\",y=\"Backlogs\",data=stu_data)"
      ],
      "execution_count": null,
      "outputs": [
        {
          "output_type": "execute_result",
          "data": {
            "text/plain": [
              "<seaborn.axisgrid.JointGrid at 0x7fc97e15dda0>"
            ]
          },
          "metadata": {
            "tags": []
          },
          "execution_count": 14
        },
        {
          "output_type": "display_data",
          "data": {
            "image/png": "[encoded data removed]",
            "text/plain": [
              "<Figure size 432x432 with 3 Axes>"
            ]
          },
          "metadata": {
            "tags": [],
            "needs_background": "light"
          }
        }
      ]
    },
    {
      "cell_type": "markdown",
      "metadata": {
        "id": "PAxQVwXAJumk",
        "colab_type": "text"
      },
      "source": [
        "### ii) What's your observation."
      ]
    },
    {
      "cell_type": "markdown",
      "metadata": {
        "id": "czHO_XGbJ19w",
        "colab_type": "text"
      },
      "source": [
        "Ans) People having high Inter percenntage have low backlogs & vice versa."
      ]
    },
    {
      "cell_type": "markdown",
      "metadata": {
        "id": "H-WlpKw7KTff",
        "colab_type": "text"
      },
      "source": [
        "## 6) Heatmaps"
      ]
    },
    {
      "cell_type": "markdown",
      "metadata": {
        "id": "EgbAFWVkKbl-",
        "colab_type": "text"
      },
      "source": [
        "### i) Draw a heat map between SSC, Intermediate and B.Tech percentage"
      ]
    },
    {
      "cell_type": "code",
      "metadata": {
        "id": "GgHTt4xubVZM",
        "colab_type": "code",
        "colab": {
          "base_uri": "https://localhost:8080/",
          "height": 204
        },
        "outputId": "8cd76db4-e4be-4693-e26b-29c28c2f2e39"
      },
      "source": [
        "x=stu_data[[\"SSC Percentage\", \"inter_Diploma_percentage\", \"B.Tech_percentage\"]]\n",
        "x.head()"
      ],
      "execution_count": null,
      "outputs": [
        {
          "output_type": "execute_result",
          "data": {
            "text/html": [
              "<div>\n",
              "<style scoped>\n",
              "    .dataframe tbody tr th:only-of-type {\n",
              "        vertical-align: middle;\n",
              "    }\n",
              "\n",
              "    .dataframe tbody tr th {\n",
              "        vertical-align: top;\n",
              "    }\n",
              "\n",
              "    .dataframe thead th {\n",
              "        text-align: right;\n",
              "    }\n",
              "</style>\n",
              "<table border=\"1\" class=\"dataframe\">\n",
              "  <thead>\n",
              "    <tr style=\"text-align: right;\">\n",
              "      <th></th>\n",
              "      <th>SSC Percentage</th>\n",
              "      <th>inter_Diploma_percentage</th>\n",
              "      <th>B.Tech_percentage</th>\n",
              "    </tr>\n",
              "  </thead>\n",
              "  <tbody>\n",
              "    <tr>\n",
              "      <th>0</th>\n",
              "      <td>87.3</td>\n",
              "      <td>65.3</td>\n",
              "      <td>40.00</td>\n",
              "    </tr>\n",
              "    <tr>\n",
              "      <th>1</th>\n",
              "      <td>89.0</td>\n",
              "      <td>92.4</td>\n",
              "      <td>71.45</td>\n",
              "    </tr>\n",
              "    <tr>\n",
              "      <th>2</th>\n",
              "      <td>67.0</td>\n",
              "      <td>68.0</td>\n",
              "      <td>45.26</td>\n",
              "    </tr>\n",
              "    <tr>\n",
              "      <th>3</th>\n",
              "      <td>71.0</td>\n",
              "      <td>70.4</td>\n",
              "      <td>36.47</td>\n",
              "    </tr>\n",
              "    <tr>\n",
              "      <th>4</th>\n",
              "      <td>NaN</td>\n",
              "      <td>65.5</td>\n",
              "      <td>42.52</td>\n",
              "    </tr>\n",
              "  </tbody>\n",
              "</table>\n",
              "</div>"
            ],
            "text/plain": [
              "   SSC Percentage  inter_Diploma_percentage  B.Tech_percentage\n",
              "0            87.3                      65.3              40.00\n",
              "1            89.0                      92.4              71.45\n",
              "2            67.0                      68.0              45.26\n",
              "3            71.0                      70.4              36.47\n",
              "4             NaN                      65.5              42.52"
            ]
          },
          "metadata": {
            "tags": []
          },
          "execution_count": 46
        }
      ]
    },
    {
      "cell_type": "code",
      "metadata": {
        "id": "rLPtH1OOawZa",
        "colab_type": "code",
        "colab": {
          "base_uri": "https://localhost:8080/",
          "height": 402
        },
        "outputId": "3eed7861-4c8b-4c2a-d4ba-f8f886b95f38"
      },
      "source": [
        "sns.heatmap(x.corr(),annot = True )\n",
        "plt.suptitle(\"Corelation between SSC marks, Inter percentage & B.tech Percentage\", color='m')\n",
        "sns.set(font_scale=0.8)"
      ],
      "execution_count": null,
      "outputs": [
        {
          "output_type": "display_data",
          "data": {
            "image/png": "[encoded data removed]",
            "text/plain": [
              "<Figure size 432x288 with 2 Axes>"
            ]
          },
          "metadata": {
            "tags": []
          }
        }
      ]
    },
    {
      "cell_type": "markdown",
      "metadata": {
        "id": "OfYCdNOO3hUf",
        "colab_type": "text"
      },
      "source": [
        "### ii) What does your observe?"
      ]
    },
    {
      "cell_type": "markdown",
      "metadata": {
        "id": "_PVXE69_4Cf8",
        "colab_type": "text"
      },
      "source": [
        "Ans) The Heat map shows the corelation between SSC Percentage,Inter Percentage & B.tech Percentage. The corelation between B.tech Percentage and SSC Percentage is low as compared to Inter Percentage and B.tech Percentage"
      ]
    }
  ]
}