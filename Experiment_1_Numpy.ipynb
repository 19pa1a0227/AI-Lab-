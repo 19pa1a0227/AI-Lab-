{
  "nbformat": 4,
  "nbformat_minor": 0,
  "metadata": {
    "colab": {
      "name": "Experiment:1 Numpy",
      "provenance": [],
      "collapsed_sections": [],
      "toc_visible": true,
      "authorship_tag": "ABX9TyNQHaJoaoqoRAB3Ak5L5Izi",
      "include_colab_link": true
    },
    "kernelspec": {
      "name": "python3",
      "display_name": "Python 3"
    }
  },
  "cells": [
    {
      "cell_type": "markdown",
      "metadata": {
        "id": "view-in-github",
        "colab_type": "text"
      },
      "source": [
        "<a href=\"https://colab.research.google.com/github/19pa1a0227/AI-Lab-/blob/master/Experiment_1_Numpy.ipynb\" target=\"_parent\"><img src=\"https://colab.research.google.com/assets/colab-badge.svg\" alt=\"Open In Colab\"/></a>"
      ]
    },
    {
      "cell_type": "markdown",
      "metadata": {
        "id": "NMXY-CZH2t5q",
        "colab_type": "text"
      },
      "source": [
        "# Experiment:1 Numpy"
      ]
    },
    {
      "cell_type": "markdown",
      "metadata": {
        "id": "cqT3wmApX-wv",
        "colab_type": "text"
      },
      "source": [
        "## i) Different ways to create numpy arrays"
      ]
    },
    {
      "cell_type": "markdown",
      "metadata": {
        "id": "qF5ifR523woV",
        "colab_type": "text"
      },
      "source": [
        "### a) Using arange function"
      ]
    },
    {
      "cell_type": "code",
      "metadata": {
        "id": "4rw5I0q44ZP3",
        "colab_type": "code",
        "colab": {}
      },
      "source": [
        "# import NUMPY library as np\n",
        "import numpy as np"
      ],
      "execution_count": null,
      "outputs": []
    },
    {
      "cell_type": "code",
      "metadata": {
        "id": "xXrte5RpYqWV",
        "colab_type": "code",
        "colab": {
          "base_uri": "https://localhost:8080/",
          "height": 34
        },
        "outputId": "dbee17af-449e-4dea-c54b-34cc009346ab"
      },
      "source": [
        "a=np.arange(1,10,2) #an array of odd nummbers created using numpy\n",
        "print(a)"
      ],
      "execution_count": null,
      "outputs": [
        {
          "output_type": "stream",
          "text": [
            "[1 3 5 7 9]\n"
          ],
          "name": "stdout"
        }
      ]
    },
    {
      "cell_type": "markdown",
      "metadata": {
        "id": "0eU8Jcga2rAN",
        "colab_type": "text"
      },
      "source": [
        "### b) Using general method "
      ]
    },
    {
      "cell_type": "code",
      "metadata": {
        "id": "z7wq9PYp564w",
        "colab_type": "code",
        "colab": {
          "base_uri": "https://localhost:8080/",
          "height": 34
        },
        "outputId": "3244a149-ce0a-4098-dade-377d39a5a02a"
      },
      "source": [
        "b= np.array([1,2,3])\n",
        "b"
      ],
      "execution_count": null,
      "outputs": [
        {
          "output_type": "execute_result",
          "data": {
            "text/plain": [
              "array([1, 2, 3])"
            ]
          },
          "metadata": {
            "tags": []
          },
          "execution_count": 17
        }
      ]
    },
    {
      "cell_type": "markdown",
      "metadata": {
        "id": "h5bZckaM6xij",
        "colab_type": "text"
      },
      "source": [
        "### c) Using numpy.zeroes"
      ]
    },
    {
      "cell_type": "code",
      "metadata": {
        "id": "5y5In4Jy7F2k",
        "colab_type": "code",
        "colab": {
          "base_uri": "https://localhost:8080/",
          "height": 51
        },
        "outputId": "1485b17f-eb70-4694-c2ed-5f7fb8269f8c"
      },
      "source": [
        "c= np.zeros((2,2)) #creates an array of all zeros\n",
        "c"
      ],
      "execution_count": null,
      "outputs": [
        {
          "output_type": "execute_result",
          "data": {
            "text/plain": [
              "array([[0., 0.],\n",
              "       [0., 0.]])"
            ]
          },
          "metadata": {
            "tags": []
          },
          "execution_count": 19
        }
      ]
    },
    {
      "cell_type": "markdown",
      "metadata": {
        "id": "T2qUOEEk74H4",
        "colab_type": "text"
      },
      "source": [
        "### d) Using np.ones"
      ]
    },
    {
      "cell_type": "code",
      "metadata": {
        "id": "N8WYWTXn_QfP",
        "colab_type": "code",
        "colab": {
          "base_uri": "https://localhost:8080/",
          "height": 68
        },
        "outputId": "c50771b6-e44e-4574-c889-6acb9a941a80"
      },
      "source": [
        "d= np.ones((3,3)) #creates an array of ones"
      ],
      "execution_count": null,
      "outputs": [
        {
          "output_type": "execute_result",
          "data": {
            "text/plain": [
              "array([[1., 1., 1.],\n",
              "       [1., 1., 1.],\n",
              "       [1., 1., 1.]])"
            ]
          },
          "metadata": {
            "tags": []
          },
          "execution_count": 7
        }
      ]
    },
    {
      "cell_type": "markdown",
      "metadata": {
        "id": "nHUCo4nxBl8t",
        "colab_type": "text"
      },
      "source": [
        "### e) Using numpy.empty"
      ]
    },
    {
      "cell_type": "code",
      "metadata": {
        "id": "GIBMW23YD4x6",
        "colab_type": "code",
        "colab": {
          "base_uri": "https://localhost:8080/",
          "height": 51
        },
        "outputId": "1c3a2852-0199-48ef-87e2-d5bd4f270b1e"
      },
      "source": [
        "e=np.empty((2,2))  #creates an empyty array\n",
        "e"
      ],
      "execution_count": null,
      "outputs": [
        {
          "output_type": "execute_result",
          "data": {
            "text/plain": [
              "array([[0., 0.],\n",
              "       [0., 0.]])"
            ]
          },
          "metadata": {
            "tags": []
          },
          "execution_count": 9
        }
      ]
    },
    {
      "cell_type": "markdown",
      "metadata": {
        "id": "8BH83O9CMWCc",
        "colab_type": "text"
      },
      "source": [
        "### f) Using numpy.eye"
      ]
    },
    {
      "cell_type": "code",
      "metadata": {
        "id": "iQsoOd7GNpuO",
        "colab_type": "code",
        "colab": {
          "base_uri": "https://localhost:8080/",
          "height": 68
        },
        "outputId": "74fd0019-484f-4180-d9a8-4ba74a2ee5f5"
      },
      "source": [
        "f=np.eye(3) #creates identity matrix\n",
        "f"
      ],
      "execution_count": null,
      "outputs": [
        {
          "output_type": "execute_result",
          "data": {
            "text/plain": [
              "array([[1., 0., 0.],\n",
              "       [0., 1., 0.],\n",
              "       [0., 0., 1.]])"
            ]
          },
          "metadata": {
            "tags": []
          },
          "execution_count": 21
        }
      ]
    },
    {
      "cell_type": "markdown",
      "metadata": {
        "id": "tP_Sled0Oa5i",
        "colab_type": "text"
      },
      "source": [
        "### g) Using numpy.random.random"
      ]
    },
    {
      "cell_type": "code",
      "metadata": {
        "id": "9hu33Mu8O3_0",
        "colab_type": "code",
        "colab": {
          "base_uri": "https://localhost:8080/",
          "height": 51
        },
        "outputId": "ea550492-2e19-4712-807b-a82e6361f3aa"
      },
      "source": [
        "g= np.random.random((2,3)) #creates an array of random values\n",
        "g"
      ],
      "execution_count": null,
      "outputs": [
        {
          "output_type": "execute_result",
          "data": {
            "text/plain": [
              "array([[0.46895197, 0.96772276, 0.17604472],\n",
              "       [0.85733834, 0.77143672, 0.99805161]])"
            ]
          },
          "metadata": {
            "tags": []
          },
          "execution_count": 23
        }
      ]
    },
    {
      "cell_type": "markdown",
      "metadata": {
        "id": "c7AK2Z__bqM-",
        "colab_type": "text"
      },
      "source": [
        " ## ii) Add, remove modify elements in a array"
      ]
    },
    {
      "cell_type": "markdown",
      "metadata": {
        "id": "1c9Agq1oPd4V",
        "colab_type": "text"
      },
      "source": [
        "###  a) Adding elements to array"
      ]
    },
    {
      "cell_type": "code",
      "metadata": {
        "id": "pW5jeasdcYuO",
        "colab_type": "code",
        "colab": {
          "base_uri": "https://localhost:8080/",
          "height": 34
        },
        "outputId": "21815969-1b21-486f-a6f2-9f1df8d2d28f"
      },
      "source": [
        "s=np.array([1,2,3])\n",
        "w=np.array([3,3,3])  #creates 2 arrays\n",
        "s\n",
        "w"
      ],
      "execution_count": null,
      "outputs": [
        {
          "output_type": "execute_result",
          "data": {
            "text/plain": [
              "array([3, 3, 3])"
            ]
          },
          "metadata": {
            "tags": []
          },
          "execution_count": 8
        }
      ]
    },
    {
      "cell_type": "code",
      "metadata": {
        "id": "p4usOr3bLqLX",
        "colab_type": "code",
        "colab": {
          "base_uri": "https://localhost:8080/",
          "height": 34
        },
        "outputId": "7d0d3bff-4180-4000-ab30-c27e5aeec7b5"
      },
      "source": [
        "a=np.append(S,W)  #joins two arrays\n",
        "a"
      ],
      "execution_count": null,
      "outputs": [
        {
          "output_type": "execute_result",
          "data": {
            "text/plain": [
              "array([1, 2, 3, 3, 3, 3])"
            ]
          },
          "metadata": {
            "tags": []
          },
          "execution_count": 11
        }
      ]
    },
    {
      "cell_type": "markdown",
      "metadata": {
        "id": "jnldhXKTMg3O",
        "colab_type": "text"
      },
      "source": [
        "### b)Removing elements in an array"
      ]
    },
    {
      "cell_type": "code",
      "metadata": {
        "id": "5v6fUUSFToul",
        "colab_type": "code",
        "colab": {
          "base_uri": "https://localhost:8080/",
          "height": 34
        },
        "outputId": "6b6b6b0a-17d8-4980-b72d-423eeedcf27d"
      },
      "source": [
        "t= np.delete(a,3) #removes the element in that index\n",
        "t"
      ],
      "execution_count": null,
      "outputs": [
        {
          "output_type": "execute_result",
          "data": {
            "text/plain": [
              "array([1, 2, 3, 3, 3])"
            ]
          },
          "metadata": {
            "tags": []
          },
          "execution_count": 13
        }
      ]
    },
    {
      "cell_type": "markdown",
      "metadata": {
        "id": "TBaLvPnuUMeR",
        "colab_type": "text"
      },
      "source": [
        "### c) Modifying elements in an array"
      ]
    },
    {
      "cell_type": "code",
      "metadata": {
        "id": "tDAWelCMUsg-",
        "colab_type": "code",
        "colab": {
          "base_uri": "https://localhost:8080/",
          "height": 34
        },
        "outputId": "ee641e5d-3539-45ba-e5bd-71c95a62da9d"
      },
      "source": [
        "t[t>=3]=4\n",
        "t"
      ],
      "execution_count": null,
      "outputs": [
        {
          "output_type": "execute_result",
          "data": {
            "text/plain": [
              "array([1, 2, 4, 4, 4])"
            ]
          },
          "metadata": {
            "tags": []
          },
          "execution_count": 24
        }
      ]
    },
    {
      "cell_type": "markdown",
      "metadata": {
        "id": "mCBEEN3mg9YG",
        "colab_type": "text"
      },
      "source": [
        "## iii) Arithmetic operations on numpy array"
      ]
    },
    {
      "cell_type": "markdown",
      "metadata": {
        "id": "lwkCBJrWWRyj",
        "colab_type": "text"
      },
      "source": [
        "### a)Addition"
      ]
    },
    {
      "cell_type": "code",
      "metadata": {
        "id": "bHz2nlWULo1Q",
        "colab_type": "code",
        "colab": {}
      },
      "source": [
        "a= np.array([[1,2,3],[1,2,3]])\n",
        "b=np.array([[1,1,1],[2,2,2]])  #creates 2 2d arrays"
      ],
      "execution_count": null,
      "outputs": []
    },
    {
      "cell_type": "code",
      "metadata": {
        "id": "Kn_jVaYThFc9",
        "colab_type": "code",
        "colab": {
          "base_uri": "https://localhost:8080/",
          "height": 51
        },
        "outputId": "05ef9750-6110-4567-c6bc-5337006e5ade"
      },
      "source": [
        "Sum =np.add(a,b) #adds the elements in the two arrays\n",
        "Sum"
      ],
      "execution_count": null,
      "outputs": [
        {
          "output_type": "execute_result",
          "data": {
            "text/plain": [
              "array([[2, 3, 4],\n",
              "       [3, 4, 5]])"
            ]
          },
          "metadata": {
            "tags": []
          },
          "execution_count": 27
        }
      ]
    },
    {
      "cell_type": "markdown",
      "metadata": {
        "id": "o77IeQ--Wh6j",
        "colab_type": "text"
      },
      "source": [
        "### b) Subtraction"
      ]
    },
    {
      "cell_type": "code",
      "metadata": {
        "id": "Fyd_R27oXDGY",
        "colab_type": "code",
        "colab": {
          "base_uri": "https://localhost:8080/",
          "height": 51
        },
        "outputId": "badb2278-171f-49f4-d481-65ca1b8385be"
      },
      "source": [
        "Difference = np.subtract(a,b) \n",
        "Difference"
      ],
      "execution_count": null,
      "outputs": [
        {
          "output_type": "execute_result",
          "data": {
            "text/plain": [
              "array([[ 0,  1,  2],\n",
              "       [-1,  0,  1]])"
            ]
          },
          "metadata": {
            "tags": []
          },
          "execution_count": 28
        }
      ]
    },
    {
      "cell_type": "markdown",
      "metadata": {
        "id": "k9VxzKBiXUzE",
        "colab_type": "text"
      },
      "source": [
        "### c) Scalar Multiplication"
      ]
    },
    {
      "cell_type": "code",
      "metadata": {
        "id": "eEkrGQgUXDCz",
        "colab_type": "code",
        "colab": {
          "base_uri": "https://localhost:8080/",
          "height": 51
        },
        "outputId": "369dc9ad-61c3-4edb-83bd-755f8a150bbe"
      },
      "source": [
        "Scalar_multiplication= a**2\n",
        "Scalar_multiplication"
      ],
      "execution_count": null,
      "outputs": [
        {
          "output_type": "execute_result",
          "data": {
            "text/plain": [
              "array([[1, 4, 9],\n",
              "       [1, 4, 9]])"
            ]
          },
          "metadata": {
            "tags": []
          },
          "execution_count": 7
        }
      ]
    },
    {
      "cell_type": "markdown",
      "metadata": {
        "id": "TOEXSvUWFO5N",
        "colab_type": "text"
      },
      "source": [
        "### d) Matrix Product\n"
      ]
    },
    {
      "cell_type": "code",
      "metadata": {
        "id": "i1G8nzgaFNl3",
        "colab_type": "code",
        "colab": {
          "base_uri": "https://localhost:8080/",
          "height": 51
        },
        "outputId": "5a459240-74fe-4806-c979-541553840ed7"
      },
      "source": [
        "a=np.array([[1,2],[3,4]])\n",
        "b=np.array([[1,1],[2,2]])\n",
        "mat_product = a@b\n",
        "mat_product"
      ],
      "execution_count": null,
      "outputs": [
        {
          "output_type": "execute_result",
          "data": {
            "text/plain": [
              "array([[ 5,  5],\n",
              "       [11, 11]])"
            ]
          },
          "metadata": {
            "tags": []
          },
          "execution_count": 11
        }
      ]
    },
    {
      "cell_type": "markdown",
      "metadata": {
        "id": "Z_sws3X8GqFb",
        "colab_type": "text"
      },
      "source": [
        "## iv) Slicing and Iterating on numpy arrays"
      ]
    },
    {
      "cell_type": "markdown",
      "metadata": {
        "id": "BrgcWbpTG6FP",
        "colab_type": "text"
      },
      "source": [
        "### a) Slicing on 1 dimensional array"
      ]
    },
    {
      "cell_type": "code",
      "metadata": {
        "id": "ikYj9Yh4HDl4",
        "colab_type": "code",
        "colab": {
          "base_uri": "https://localhost:8080/",
          "height": 34
        },
        "outputId": "3c043a36-9a1f-4d4e-eccf-3991dd38a8c3"
      },
      "source": [
        "s=np.arange(10)\n",
        "s"
      ],
      "execution_count": null,
      "outputs": [
        {
          "output_type": "execute_result",
          "data": {
            "text/plain": [
              "array([0, 1, 2, 3, 4, 5, 6, 7, 8, 9])"
            ]
          },
          "metadata": {
            "tags": []
          },
          "execution_count": 12
        }
      ]
    },
    {
      "cell_type": "code",
      "metadata": {
        "id": "Jzq1zjYUHlrV",
        "colab_type": "code",
        "colab": {
          "base_uri": "https://localhost:8080/",
          "height": 68
        },
        "outputId": "28e59c23-db20-4b6f-c522-3e8196f96547"
      },
      "source": [
        "print(s[2]) #returns element in second index(scalar form)\n",
        "print(s[2:4]) #returns the elements in 2nd & 3rd indices\n",
        "print(s[2:3]) #returns element in second index(matrix form)"
      ],
      "execution_count": null,
      "outputs": [
        {
          "output_type": "stream",
          "text": [
            "2\n",
            "[2 3]\n",
            "[2]\n"
          ],
          "name": "stdout"
        }
      ]
    },
    {
      "cell_type": "markdown",
      "metadata": {
        "id": "awU14PsrIik4",
        "colab_type": "text"
      },
      "source": [
        "### b) Slicing 2d array"
      ]
    },
    {
      "cell_type": "code",
      "metadata": {
        "id": "2JAwK9EJJXXf",
        "colab_type": "code",
        "colab": {
          "base_uri": "https://localhost:8080/",
          "height": 68
        },
        "outputId": "9f937ed5-8aef-4cfb-fd6d-55af64114d92"
      },
      "source": [
        "s=np.arange(9).reshape(3,3)\n",
        "s"
      ],
      "execution_count": null,
      "outputs": [
        {
          "output_type": "execute_result",
          "data": {
            "text/plain": [
              "array([[0, 1, 2],\n",
              "       [3, 4, 5],\n",
              "       [6, 7, 8]])"
            ]
          },
          "metadata": {
            "tags": []
          },
          "execution_count": 16
        }
      ]
    },
    {
      "cell_type": "code",
      "metadata": {
        "id": "V9LEEC-jJyAT",
        "colab_type": "code",
        "colab": {
          "base_uri": "https://localhost:8080/",
          "height": 68
        },
        "outputId": "50ac0ff6-e42e-4b2f-e237-f8ea22bc290b"
      },
      "source": [
        "print(s[1:2])  #prints second row\n",
        "print(s[1:2,1:2]) #prints 2 nd element in 2nd and 3rd rows\n",
        "print(s[2,]) #prints second row in scalar form "
      ],
      "execution_count": null,
      "outputs": [
        {
          "output_type": "stream",
          "text": [
            "[[3 4 5]]\n",
            "[[4]]\n",
            "[6 7 8]\n"
          ],
          "name": "stdout"
        }
      ]
    },
    {
      "cell_type": "markdown",
      "metadata": {
        "id": "7OIRGfbbK9sb",
        "colab_type": "text"
      },
      "source": [
        "### Negetive slicing"
      ]
    },
    {
      "cell_type": "code",
      "metadata": {
        "id": "rm3aePSELFYd",
        "colab_type": "code",
        "colab": {
          "base_uri": "https://localhost:8080/",
          "height": 34
        },
        "outputId": "832d30a1-4280-48de-db2f-4bf74b6f7547"
      },
      "source": [
        "h=np.arange(5)\n",
        "h"
      ],
      "execution_count": null,
      "outputs": [
        {
          "output_type": "execute_result",
          "data": {
            "text/plain": [
              "array([0, 1, 2, 3, 4])"
            ]
          },
          "metadata": {
            "tags": []
          },
          "execution_count": 18
        }
      ]
    },
    {
      "cell_type": "code",
      "metadata": {
        "id": "yAeygrJ8LauJ",
        "colab_type": "code",
        "colab": {
          "base_uri": "https://localhost:8080/",
          "height": 51
        },
        "outputId": "311b1369-698e-4eec-c689-03de23989dd9"
      },
      "source": [
        "print(h[-1:]) #prints last element in matrix form\n",
        "print(h[-1]) #prints last element in scalar form"
      ],
      "execution_count": null,
      "outputs": [
        {
          "output_type": "stream",
          "text": [
            "[4]\n",
            "4\n"
          ],
          "name": "stdout"
        }
      ]
    },
    {
      "cell_type": "markdown",
      "metadata": {
        "id": "OyhYrFyyMFJ4",
        "colab_type": "text"
      },
      "source": [
        "## Iteration"
      ]
    },
    {
      "cell_type": "code",
      "metadata": {
        "id": "OUdzZV1EMsc1",
        "colab_type": "code",
        "colab": {
          "base_uri": "https://localhost:8080/",
          "height": 68
        },
        "outputId": "53c46922-33eb-496b-c735-5afaebf50364"
      },
      "source": [
        "c=np.arange(9).reshape(3,3)\n",
        "c"
      ],
      "execution_count": null,
      "outputs": [
        {
          "output_type": "execute_result",
          "data": {
            "text/plain": [
              "array([[0, 1, 2],\n",
              "       [3, 4, 5],\n",
              "       [6, 7, 8]])"
            ]
          },
          "metadata": {
            "tags": []
          },
          "execution_count": 21
        }
      ]
    },
    {
      "cell_type": "code",
      "metadata": {
        "id": "55xnlzf-NSAf",
        "colab_type": "code",
        "colab": {
          "base_uri": "https://localhost:8080/",
          "height": 68
        },
        "outputId": "2df6bdfe-5300-486f-c0e5-ffcba79edad9"
      },
      "source": [
        "for i in c:\n",
        "  print(i)"
      ],
      "execution_count": null,
      "outputs": [
        {
          "output_type": "stream",
          "text": [
            "[0 1 2]\n",
            "[3 4 5]\n",
            "[6 7 8]\n"
          ],
          "name": "stdout"
        }
      ]
    },
    {
      "cell_type": "code",
      "metadata": {
        "id": "GUmpxt9VNfWk",
        "colab_type": "code",
        "colab": {
          "base_uri": "https://localhost:8080/",
          "height": 170
        },
        "outputId": "12736728-a6b2-4028-9b31-d6590433851c"
      },
      "source": [
        "for i in c.flat:\n",
        "  print(i)"
      ],
      "execution_count": null,
      "outputs": [
        {
          "output_type": "stream",
          "text": [
            "0\n",
            "1\n",
            "2\n",
            "3\n",
            "4\n",
            "5\n",
            "6\n",
            "7\n",
            "8\n"
          ],
          "name": "stdout"
        }
      ]
    },
    {
      "cell_type": "markdown",
      "metadata": {
        "id": "hn7mLPOdNvCE",
        "colab_type": "text"
      },
      "source": [
        "## 5) Matrix operations on numpy arrays"
      ]
    },
    {
      "cell_type": "code",
      "metadata": {
        "id": "cZStl7D4OEnK",
        "colab_type": "code",
        "colab": {
          "base_uri": "https://localhost:8080/",
          "height": 85
        },
        "outputId": "339e5781-1c15-497a-e2ff-3ea2fd2ed7b8"
      },
      "source": [
        "a=np.array([[11,12],[13,14]])\n",
        "c=np.array([[5,6],[7,8]])\n",
        "print(np.add(a,c))\n",
        "print(np.subtract(a,c))"
      ],
      "execution_count": null,
      "outputs": [
        {
          "output_type": "stream",
          "text": [
            "[[16 18]\n",
            " [20 22]]\n",
            "[[6 6]\n",
            " [6 6]]\n"
          ],
          "name": "stdout"
        }
      ]
    }
  ]
}